{
  "nbformat": 4,
  "nbformat_minor": 0,
  "metadata": {
    "accelerator": "GPU",
    "colab": {
      "name": "Me.ipynb",
      "provenance": [],
      "collapsed_sections": [],
      "include_colab_link": true
    },
    "kernelspec": {
      "display_name": "Python 3",
      "name": "python3"
    }
  },
  "cells": [
    {
      "cell_type": "markdown",
      "metadata": {
        "id": "view-in-github",
        "colab_type": "text"
      },
      "source": [
        "<a href=\"https://colab.research.google.com/github/atitawat-pol/BADS7210-SNA/blob/master/Me.ipynb\" target=\"_parent\"><img src=\"https://colab.research.google.com/assets/colab-badge.svg\" alt=\"Open In Colab\"/></a>"
      ]
    },
    {
      "cell_type": "code",
      "metadata": {
        "id": "gYzU-5Q7U7aB",
        "outputId": "d79da726-0685-49f0-fd21-83fb93835876",
        "colab": {
          "base_uri": "https://localhost:8080/"
        }
      },
      "source": [
        "#Install \n",
        "!pip install dgl\n",
        "!pip install dgl-cu100"
      ],
      "execution_count": 1,
      "outputs": [
        {
          "output_type": "stream",
          "text": [
            "Collecting dgl\n",
            "\u001b[?25l  Downloading https://files.pythonhosted.org/packages/4d/05/9627fd225854f9ab77984f79405e78def50eb673a962940ed30fc07e9ac6/dgl-0.5.2-cp36-cp36m-manylinux1_x86_64.whl (3.5MB)\n",
            "\r\u001b[K     |                                | 10kB 21.7MB/s eta 0:00:01\r\u001b[K     |▏                               | 20kB 28.1MB/s eta 0:00:01\r\u001b[K     |▎                               | 30kB 24.2MB/s eta 0:00:01\r\u001b[K     |▍                               | 40kB 18.7MB/s eta 0:00:01\r\u001b[K     |▌                               | 51kB 13.6MB/s eta 0:00:01\r\u001b[K     |▋                               | 61kB 14.2MB/s eta 0:00:01\r\u001b[K     |▋                               | 71kB 13.7MB/s eta 0:00:01\r\u001b[K     |▊                               | 81kB 13.7MB/s eta 0:00:01\r\u001b[K     |▉                               | 92kB 13.2MB/s eta 0:00:01\r\u001b[K     |█                               | 102kB 13.1MB/s eta 0:00:01\r\u001b[K     |█                               | 112kB 13.1MB/s eta 0:00:01\r\u001b[K     |█▏                              | 122kB 13.1MB/s eta 0:00:01\r\u001b[K     |█▏                              | 133kB 13.1MB/s eta 0:00:01\r\u001b[K     |█▎                              | 143kB 13.1MB/s eta 0:00:01\r\u001b[K     |█▍                              | 153kB 13.1MB/s eta 0:00:01\r\u001b[K     |█▌                              | 163kB 13.1MB/s eta 0:00:01\r\u001b[K     |█▋                              | 174kB 13.1MB/s eta 0:00:01\r\u001b[K     |█▊                              | 184kB 13.1MB/s eta 0:00:01\r\u001b[K     |█▉                              | 194kB 13.1MB/s eta 0:00:01\r\u001b[K     |█▉                              | 204kB 13.1MB/s eta 0:00:01\r\u001b[K     |██                              | 215kB 13.1MB/s eta 0:00:01\r\u001b[K     |██                              | 225kB 13.1MB/s eta 0:00:01\r\u001b[K     |██▏                             | 235kB 13.1MB/s eta 0:00:01\r\u001b[K     |██▎                             | 245kB 13.1MB/s eta 0:00:01\r\u001b[K     |██▍                             | 256kB 13.1MB/s eta 0:00:01\r\u001b[K     |██▍                             | 266kB 13.1MB/s eta 0:00:01\r\u001b[K     |██▌                             | 276kB 13.1MB/s eta 0:00:01\r\u001b[K     |██▋                             | 286kB 13.1MB/s eta 0:00:01\r\u001b[K     |██▊                             | 296kB 13.1MB/s eta 0:00:01\r\u001b[K     |██▉                             | 307kB 13.1MB/s eta 0:00:01\r\u001b[K     |███                             | 317kB 13.1MB/s eta 0:00:01\r\u001b[K     |███                             | 327kB 13.1MB/s eta 0:00:01\r\u001b[K     |███                             | 337kB 13.1MB/s eta 0:00:01\r\u001b[K     |███▏                            | 348kB 13.1MB/s eta 0:00:01\r\u001b[K     |███▎                            | 358kB 13.1MB/s eta 0:00:01\r\u001b[K     |███▍                            | 368kB 13.1MB/s eta 0:00:01\r\u001b[K     |███▌                            | 378kB 13.1MB/s eta 0:00:01\r\u001b[K     |███▋                            | 389kB 13.1MB/s eta 0:00:01\r\u001b[K     |███▋                            | 399kB 13.1MB/s eta 0:00:01\r\u001b[K     |███▊                            | 409kB 13.1MB/s eta 0:00:01\r\u001b[K     |███▉                            | 419kB 13.1MB/s eta 0:00:01\r\u001b[K     |████                            | 430kB 13.1MB/s eta 0:00:01\r\u001b[K     |████                            | 440kB 13.1MB/s eta 0:00:01\r\u001b[K     |████▏                           | 450kB 13.1MB/s eta 0:00:01\r\u001b[K     |████▎                           | 460kB 13.1MB/s eta 0:00:01\r\u001b[K     |████▎                           | 471kB 13.1MB/s eta 0:00:01\r\u001b[K     |████▍                           | 481kB 13.1MB/s eta 0:00:01\r\u001b[K     |████▌                           | 491kB 13.1MB/s eta 0:00:01\r\u001b[K     |████▋                           | 501kB 13.1MB/s eta 0:00:01\r\u001b[K     |████▊                           | 512kB 13.1MB/s eta 0:00:01\r\u001b[K     |████▉                           | 522kB 13.1MB/s eta 0:00:01\r\u001b[K     |████▉                           | 532kB 13.1MB/s eta 0:00:01\r\u001b[K     |█████                           | 542kB 13.1MB/s eta 0:00:01\r\u001b[K     |█████                           | 552kB 13.1MB/s eta 0:00:01\r\u001b[K     |█████▏                          | 563kB 13.1MB/s eta 0:00:01\r\u001b[K     |█████▎                          | 573kB 13.1MB/s eta 0:00:01\r\u001b[K     |█████▍                          | 583kB 13.1MB/s eta 0:00:01\r\u001b[K     |█████▌                          | 593kB 13.1MB/s eta 0:00:01\r\u001b[K     |█████▌                          | 604kB 13.1MB/s eta 0:00:01\r\u001b[K     |█████▋                          | 614kB 13.1MB/s eta 0:00:01\r\u001b[K     |█████▊                          | 624kB 13.1MB/s eta 0:00:01\r\u001b[K     |█████▉                          | 634kB 13.1MB/s eta 0:00:01\r\u001b[K     |██████                          | 645kB 13.1MB/s eta 0:00:01\r\u001b[K     |██████                          | 655kB 13.1MB/s eta 0:00:01\r\u001b[K     |██████                          | 665kB 13.1MB/s eta 0:00:01\r\u001b[K     |██████▏                         | 675kB 13.1MB/s eta 0:00:01\r\u001b[K     |██████▎                         | 686kB 13.1MB/s eta 0:00:01\r\u001b[K     |██████▍                         | 696kB 13.1MB/s eta 0:00:01\r\u001b[K     |██████▌                         | 706kB 13.1MB/s eta 0:00:01\r\u001b[K     |██████▋                         | 716kB 13.1MB/s eta 0:00:01\r\u001b[K     |██████▊                         | 727kB 13.1MB/s eta 0:00:01\r\u001b[K     |██████▊                         | 737kB 13.1MB/s eta 0:00:01\r\u001b[K     |██████▉                         | 747kB 13.1MB/s eta 0:00:01\r\u001b[K     |███████                         | 757kB 13.1MB/s eta 0:00:01\r\u001b[K     |███████                         | 768kB 13.1MB/s eta 0:00:01\r\u001b[K     |███████▏                        | 778kB 13.1MB/s eta 0:00:01\r\u001b[K     |███████▎                        | 788kB 13.1MB/s eta 0:00:01\r\u001b[K     |███████▎                        | 798kB 13.1MB/s eta 0:00:01\r\u001b[K     |███████▍                        | 808kB 13.1MB/s eta 0:00:01\r\u001b[K     |███████▌                        | 819kB 13.1MB/s eta 0:00:01\r\u001b[K     |███████▋                        | 829kB 13.1MB/s eta 0:00:01\r\u001b[K     |███████▊                        | 839kB 13.1MB/s eta 0:00:01\r\u001b[K     |███████▉                        | 849kB 13.1MB/s eta 0:00:01\r\u001b[K     |████████                        | 860kB 13.1MB/s eta 0:00:01\r\u001b[K     |████████                        | 870kB 13.1MB/s eta 0:00:01\r\u001b[K     |████████                        | 880kB 13.1MB/s eta 0:00:01\r\u001b[K     |████████▏                       | 890kB 13.1MB/s eta 0:00:01\r\u001b[K     |████████▎                       | 901kB 13.1MB/s eta 0:00:01\r\u001b[K     |████████▍                       | 911kB 13.1MB/s eta 0:00:01\r\u001b[K     |████████▌                       | 921kB 13.1MB/s eta 0:00:01\r\u001b[K     |████████▌                       | 931kB 13.1MB/s eta 0:00:01\r\u001b[K     |████████▋                       | 942kB 13.1MB/s eta 0:00:01\r\u001b[K     |████████▊                       | 952kB 13.1MB/s eta 0:00:01\r\u001b[K     |████████▉                       | 962kB 13.1MB/s eta 0:00:01\r\u001b[K     |█████████                       | 972kB 13.1MB/s eta 0:00:01\r\u001b[K     |█████████                       | 983kB 13.1MB/s eta 0:00:01\r\u001b[K     |█████████▏                      | 993kB 13.1MB/s eta 0:00:01\r\u001b[K     |█████████▏                      | 1.0MB 13.1MB/s eta 0:00:01\r\u001b[K     |█████████▎                      | 1.0MB 13.1MB/s eta 0:00:01\r\u001b[K     |█████████▍                      | 1.0MB 13.1MB/s eta 0:00:01\r\u001b[K     |█████████▌                      | 1.0MB 13.1MB/s eta 0:00:01\r\u001b[K     |█████████▋                      | 1.0MB 13.1MB/s eta 0:00:01\r\u001b[K     |█████████▊                      | 1.1MB 13.1MB/s eta 0:00:01\r\u001b[K     |█████████▊                      | 1.1MB 13.1MB/s eta 0:00:01\r\u001b[K     |█████████▉                      | 1.1MB 13.1MB/s eta 0:00:01\r\u001b[K     |██████████                      | 1.1MB 13.1MB/s eta 0:00:01\r\u001b[K     |██████████                      | 1.1MB 13.1MB/s eta 0:00:01\r\u001b[K     |██████████▏                     | 1.1MB 13.1MB/s eta 0:00:01\r\u001b[K     |██████████▎                     | 1.1MB 13.1MB/s eta 0:00:01\r\u001b[K     |██████████▍                     | 1.1MB 13.1MB/s eta 0:00:01\r\u001b[K     |██████████▍                     | 1.1MB 13.1MB/s eta 0:00:01\r\u001b[K     |██████████▌                     | 1.1MB 13.1MB/s eta 0:00:01\r\u001b[K     |██████████▋                     | 1.2MB 13.1MB/s eta 0:00:01\r\u001b[K     |██████████▊                     | 1.2MB 13.1MB/s eta 0:00:01\r\u001b[K     |██████████▉                     | 1.2MB 13.1MB/s eta 0:00:01\r\u001b[K     |███████████                     | 1.2MB 13.1MB/s eta 0:00:01\r\u001b[K     |███████████                     | 1.2MB 13.1MB/s eta 0:00:01\r\u001b[K     |███████████                     | 1.2MB 13.1MB/s eta 0:00:01\r\u001b[K     |███████████▏                    | 1.2MB 13.1MB/s eta 0:00:01\r\u001b[K     |███████████▎                    | 1.2MB 13.1MB/s eta 0:00:01\r\u001b[K     |███████████▍                    | 1.2MB 13.1MB/s eta 0:00:01\r\u001b[K     |███████████▌                    | 1.2MB 13.1MB/s eta 0:00:01\r\u001b[K     |███████████▋                    | 1.3MB 13.1MB/s eta 0:00:01\r\u001b[K     |███████████▋                    | 1.3MB 13.1MB/s eta 0:00:01\r\u001b[K     |███████████▊                    | 1.3MB 13.1MB/s eta 0:00:01\r\u001b[K     |███████████▉                    | 1.3MB 13.1MB/s eta 0:00:01\r\u001b[K     |████████████                    | 1.3MB 13.1MB/s eta 0:00:01\r\u001b[K     |████████████                    | 1.3MB 13.1MB/s eta 0:00:01\r\u001b[K     |████████████▏                   | 1.3MB 13.1MB/s eta 0:00:01\r\u001b[K     |████████████▏                   | 1.3MB 13.1MB/s eta 0:00:01\r\u001b[K     |████████████▎                   | 1.3MB 13.1MB/s eta 0:00:01\r\u001b[K     |████████████▍                   | 1.4MB 13.1MB/s eta 0:00:01\r\u001b[K     |████████████▌                   | 1.4MB 13.1MB/s eta 0:00:01\r\u001b[K     |████████████▋                   | 1.4MB 13.1MB/s eta 0:00:01\r\u001b[K     |████████████▊                   | 1.4MB 13.1MB/s eta 0:00:01\r\u001b[K     |████████████▉                   | 1.4MB 13.1MB/s eta 0:00:01\r\u001b[K     |████████████▉                   | 1.4MB 13.1MB/s eta 0:00:01\r\u001b[K     |█████████████                   | 1.4MB 13.1MB/s eta 0:00:01\r\u001b[K     |█████████████                   | 1.4MB 13.1MB/s eta 0:00:01\r\u001b[K     |█████████████▏                  | 1.4MB 13.1MB/s eta 0:00:01\r\u001b[K     |█████████████▎                  | 1.4MB 13.1MB/s eta 0:00:01\r\u001b[K     |█████████████▍                  | 1.5MB 13.1MB/s eta 0:00:01\r\u001b[K     |█████████████▍                  | 1.5MB 13.1MB/s eta 0:00:01\r\u001b[K     |█████████████▌                  | 1.5MB 13.1MB/s eta 0:00:01\r\u001b[K     |█████████████▋                  | 1.5MB 13.1MB/s eta 0:00:01\r\u001b[K     |█████████████▊                  | 1.5MB 13.1MB/s eta 0:00:01\r\u001b[K     |█████████████▉                  | 1.5MB 13.1MB/s eta 0:00:01\r\u001b[K     |██████████████                  | 1.5MB 13.1MB/s eta 0:00:01\r\u001b[K     |██████████████                  | 1.5MB 13.1MB/s eta 0:00:01\r\u001b[K     |██████████████                  | 1.5MB 13.1MB/s eta 0:00:01\r\u001b[K     |██████████████▏                 | 1.5MB 13.1MB/s eta 0:00:01\r\u001b[K     |██████████████▎                 | 1.6MB 13.1MB/s eta 0:00:01\r\u001b[K     |██████████████▍                 | 1.6MB 13.1MB/s eta 0:00:01\r\u001b[K     |██████████████▌                 | 1.6MB 13.1MB/s eta 0:00:01\r\u001b[K     |██████████████▋                 | 1.6MB 13.1MB/s eta 0:00:01\r\u001b[K     |██████████████▋                 | 1.6MB 13.1MB/s eta 0:00:01\r\u001b[K     |██████████████▊                 | 1.6MB 13.1MB/s eta 0:00:01\r\u001b[K     |██████████████▉                 | 1.6MB 13.1MB/s eta 0:00:01\r\u001b[K     |███████████████                 | 1.6MB 13.1MB/s eta 0:00:01\r\u001b[K     |███████████████                 | 1.6MB 13.1MB/s eta 0:00:01\r\u001b[K     |███████████████▏                | 1.6MB 13.1MB/s eta 0:00:01\r\u001b[K     |███████████████▏                | 1.7MB 13.1MB/s eta 0:00:01\r\u001b[K     |███████████████▎                | 1.7MB 13.1MB/s eta 0:00:01\r\u001b[K     |███████████████▍                | 1.7MB 13.1MB/s eta 0:00:01\r\u001b[K     |███████████████▌                | 1.7MB 13.1MB/s eta 0:00:01\r\u001b[K     |███████████████▋                | 1.7MB 13.1MB/s eta 0:00:01\r\u001b[K     |███████████████▊                | 1.7MB 13.1MB/s eta 0:00:01\r\u001b[K     |███████████████▉                | 1.7MB 13.1MB/s eta 0:00:01\r\u001b[K     |███████████████▉                | 1.7MB 13.1MB/s eta 0:00:01\r\u001b[K     |████████████████                | 1.7MB 13.1MB/s eta 0:00:01\r\u001b[K     |████████████████                | 1.8MB 13.1MB/s eta 0:00:01\r\u001b[K     |████████████████▏               | 1.8MB 13.1MB/s eta 0:00:01\r\u001b[K     |████████████████▎               | 1.8MB 13.1MB/s eta 0:00:01\r\u001b[K     |████████████████▍               | 1.8MB 13.1MB/s eta 0:00:01\r\u001b[K     |████████████████▍               | 1.8MB 13.1MB/s eta 0:00:01\r\u001b[K     |████████████████▌               | 1.8MB 13.1MB/s eta 0:00:01\r\u001b[K     |████████████████▋               | 1.8MB 13.1MB/s eta 0:00:01\r\u001b[K     |████████████████▊               | 1.8MB 13.1MB/s eta 0:00:01\r\u001b[K     |████████████████▉               | 1.8MB 13.1MB/s eta 0:00:01\r\u001b[K     |█████████████████               | 1.8MB 13.1MB/s eta 0:00:01\r\u001b[K     |█████████████████               | 1.9MB 13.1MB/s eta 0:00:01\r\u001b[K     |█████████████████               | 1.9MB 13.1MB/s eta 0:00:01\r\u001b[K     |█████████████████▏              | 1.9MB 13.1MB/s eta 0:00:01\r\u001b[K     |█████████████████▎              | 1.9MB 13.1MB/s eta 0:00:01\r\u001b[K     |█████████████████▍              | 1.9MB 13.1MB/s eta 0:00:01\r\u001b[K     |█████████████████▌              | 1.9MB 13.1MB/s eta 0:00:01\r\u001b[K     |█████████████████▋              | 1.9MB 13.1MB/s eta 0:00:01\r\u001b[K     |█████████████████▋              | 1.9MB 13.1MB/s eta 0:00:01\r\u001b[K     |█████████████████▊              | 1.9MB 13.1MB/s eta 0:00:01\r\u001b[K     |█████████████████▉              | 1.9MB 13.1MB/s eta 0:00:01\r\u001b[K     |██████████████████              | 2.0MB 13.1MB/s eta 0:00:01\r\u001b[K     |██████████████████              | 2.0MB 13.1MB/s eta 0:00:01\r\u001b[K     |██████████████████▏             | 2.0MB 13.1MB/s eta 0:00:01\r\u001b[K     |██████████████████▎             | 2.0MB 13.1MB/s eta 0:00:01\r\u001b[K     |██████████████████▎             | 2.0MB 13.1MB/s eta 0:00:01\r\u001b[K     |██████████████████▍             | 2.0MB 13.1MB/s eta 0:00:01\r\u001b[K     |██████████████████▌             | 2.0MB 13.1MB/s eta 0:00:01\r\u001b[K     |██████████████████▋             | 2.0MB 13.1MB/s eta 0:00:01\r\u001b[K     |██████████████████▊             | 2.0MB 13.1MB/s eta 0:00:01\r\u001b[K     |██████████████████▉             | 2.0MB 13.1MB/s eta 0:00:01\r\u001b[K     |██████████████████▉             | 2.1MB 13.1MB/s eta 0:00:01\r\u001b[K     |███████████████████             | 2.1MB 13.1MB/s eta 0:00:01\r\u001b[K     |███████████████████             | 2.1MB 13.1MB/s eta 0:00:01\r\u001b[K     |███████████████████▏            | 2.1MB 13.1MB/s eta 0:00:01\r\u001b[K     |███████████████████▎            | 2.1MB 13.1MB/s eta 0:00:01\r\u001b[K     |███████████████████▍            | 2.1MB 13.1MB/s eta 0:00:01\r\u001b[K     |███████████████████▌            | 2.1MB 13.1MB/s eta 0:00:01\r\u001b[K     |███████████████████▌            | 2.1MB 13.1MB/s eta 0:00:01\r\u001b[K     |███████████████████▋            | 2.1MB 13.1MB/s eta 0:00:01\r\u001b[K     |███████████████████▊            | 2.2MB 13.1MB/s eta 0:00:01\r\u001b[K     |███████████████████▉            | 2.2MB 13.1MB/s eta 0:00:01\r\u001b[K     |████████████████████            | 2.2MB 13.1MB/s eta 0:00:01\r\u001b[K     |████████████████████            | 2.2MB 13.1MB/s eta 0:00:01\r\u001b[K     |████████████████████            | 2.2MB 13.1MB/s eta 0:00:01\r\u001b[K     |████████████████████▏           | 2.2MB 13.1MB/s eta 0:00:01\r\u001b[K     |████████████████████▎           | 2.2MB 13.1MB/s eta 0:00:01\r\u001b[K     |████████████████████▍           | 2.2MB 13.1MB/s eta 0:00:01\r\u001b[K     |████████████████████▌           | 2.2MB 13.1MB/s eta 0:00:01\r\u001b[K     |████████████████████▋           | 2.2MB 13.1MB/s eta 0:00:01\r\u001b[K     |████████████████████▊           | 2.3MB 13.1MB/s eta 0:00:01\r\u001b[K     |████████████████████▊           | 2.3MB 13.1MB/s eta 0:00:01\r\u001b[K     |████████████████████▉           | 2.3MB 13.1MB/s eta 0:00:01\r\u001b[K     |█████████████████████           | 2.3MB 13.1MB/s eta 0:00:01\r\u001b[K     |█████████████████████           | 2.3MB 13.1MB/s eta 0:00:01\r\u001b[K     |█████████████████████▏          | 2.3MB 13.1MB/s eta 0:00:01\r\u001b[K     |█████████████████████▎          | 2.3MB 13.1MB/s eta 0:00:01\r\u001b[K     |█████████████████████▎          | 2.3MB 13.1MB/s eta 0:00:01\r\u001b[K     |█████████████████████▍          | 2.3MB 13.1MB/s eta 0:00:01\r\u001b[K     |█████████████████████▌          | 2.3MB 13.1MB/s eta 0:00:01\r\u001b[K     |█████████████████████▋          | 2.4MB 13.1MB/s eta 0:00:01\r\u001b[K     |█████████████████████▊          | 2.4MB 13.1MB/s eta 0:00:01\r\u001b[K     |█████████████████████▉          | 2.4MB 13.1MB/s eta 0:00:01\r\u001b[K     |██████████████████████          | 2.4MB 13.1MB/s eta 0:00:01\r\u001b[K     |██████████████████████          | 2.4MB 13.1MB/s eta 0:00:01\r\u001b[K     |██████████████████████          | 2.4MB 13.1MB/s eta 0:00:01\r\u001b[K     |██████████████████████▏         | 2.4MB 13.1MB/s eta 0:00:01\r\u001b[K     |██████████████████████▎         | 2.4MB 13.1MB/s eta 0:00:01\r\u001b[K     |██████████████████████▍         | 2.4MB 13.1MB/s eta 0:00:01\r\u001b[K     |██████████████████████▌         | 2.4MB 13.1MB/s eta 0:00:01\r\u001b[K     |██████████████████████▌         | 2.5MB 13.1MB/s eta 0:00:01\r\u001b[K     |██████████████████████▋         | 2.5MB 13.1MB/s eta 0:00:01\r\u001b[K     |██████████████████████▊         | 2.5MB 13.1MB/s eta 0:00:01\r\u001b[K     |██████████████████████▉         | 2.5MB 13.1MB/s eta 0:00:01\r\u001b[K     |███████████████████████         | 2.5MB 13.1MB/s eta 0:00:01\r\u001b[K     |███████████████████████         | 2.5MB 13.1MB/s eta 0:00:01\r\u001b[K     |███████████████████████▏        | 2.5MB 13.1MB/s eta 0:00:01\r\u001b[K     |███████████████████████▏        | 2.5MB 13.1MB/s eta 0:00:01\r\u001b[K     |███████████████████████▎        | 2.5MB 13.1MB/s eta 0:00:01\r\u001b[K     |███████████████████████▍        | 2.5MB 13.1MB/s eta 0:00:01\r\u001b[K     |███████████████████████▌        | 2.6MB 13.1MB/s eta 0:00:01\r\u001b[K     |███████████████████████▋        | 2.6MB 13.1MB/s eta 0:00:01\r\u001b[K     |███████████████████████▊        | 2.6MB 13.1MB/s eta 0:00:01\r\u001b[K     |███████████████████████▊        | 2.6MB 13.1MB/s eta 0:00:01\r\u001b[K     |███████████████████████▉        | 2.6MB 13.1MB/s eta 0:00:01\r\u001b[K     |████████████████████████        | 2.6MB 13.1MB/s eta 0:00:01\r\u001b[K     |████████████████████████        | 2.6MB 13.1MB/s eta 0:00:01\r\u001b[K     |████████████████████████▏       | 2.6MB 13.1MB/s eta 0:00:01\r\u001b[K     |████████████████████████▎       | 2.6MB 13.1MB/s eta 0:00:01\r\u001b[K     |████████████████████████▍       | 2.7MB 13.1MB/s eta 0:00:01\r\u001b[K     |████████████████████████▍       | 2.7MB 13.1MB/s eta 0:00:01\r\u001b[K     |████████████████████████▌       | 2.7MB 13.1MB/s eta 0:00:01\r\u001b[K     |████████████████████████▋       | 2.7MB 13.1MB/s eta 0:00:01\r\u001b[K     |████████████████████████▊       | 2.7MB 13.1MB/s eta 0:00:01\r\u001b[K     |████████████████████████▉       | 2.7MB 13.1MB/s eta 0:00:01\r\u001b[K     |█████████████████████████       | 2.7MB 13.1MB/s eta 0:00:01\r\u001b[K     |█████████████████████████       | 2.7MB 13.1MB/s eta 0:00:01\r\u001b[K     |█████████████████████████       | 2.7MB 13.1MB/s eta 0:00:01\r\u001b[K     |█████████████████████████▏      | 2.7MB 13.1MB/s eta 0:00:01\r\u001b[K     |█████████████████████████▎      | 2.8MB 13.1MB/s eta 0:00:01\r\u001b[K     |█████████████████████████▍      | 2.8MB 13.1MB/s eta 0:00:01\r\u001b[K     |█████████████████████████▌      | 2.8MB 13.1MB/s eta 0:00:01\r\u001b[K     |█████████████████████████▋      | 2.8MB 13.1MB/s eta 0:00:01\r\u001b[K     |█████████████████████████▋      | 2.8MB 13.1MB/s eta 0:00:01\r\u001b[K     |█████████████████████████▊      | 2.8MB 13.1MB/s eta 0:00:01\r\u001b[K     |█████████████████████████▉      | 2.8MB 13.1MB/s eta 0:00:01\r\u001b[K     |██████████████████████████      | 2.8MB 13.1MB/s eta 0:00:01\r\u001b[K     |██████████████████████████      | 2.8MB 13.1MB/s eta 0:00:01\r\u001b[K     |██████████████████████████▏     | 2.8MB 13.1MB/s eta 0:00:01\r\u001b[K     |██████████████████████████▏     | 2.9MB 13.1MB/s eta 0:00:01\r\u001b[K     |██████████████████████████▎     | 2.9MB 13.1MB/s eta 0:00:01\r\u001b[K     |██████████████████████████▍     | 2.9MB 13.1MB/s eta 0:00:01\r\u001b[K     |██████████████████████████▌     | 2.9MB 13.1MB/s eta 0:00:01\r\u001b[K     |██████████████████████████▋     | 2.9MB 13.1MB/s eta 0:00:01\r\u001b[K     |██████████████████████████▊     | 2.9MB 13.1MB/s eta 0:00:01\r\u001b[K     |██████████████████████████▉     | 2.9MB 13.1MB/s eta 0:00:01\r\u001b[K     |██████████████████████████▉     | 2.9MB 13.1MB/s eta 0:00:01\r\u001b[K     |███████████████████████████     | 2.9MB 13.1MB/s eta 0:00:01\r\u001b[K     |███████████████████████████     | 2.9MB 13.1MB/s eta 0:00:01\r\u001b[K     |███████████████████████████▏    | 3.0MB 13.1MB/s eta 0:00:01\r\u001b[K     |███████████████████████████▎    | 3.0MB 13.1MB/s eta 0:00:01\r\u001b[K     |███████████████████████████▍    | 3.0MB 13.1MB/s eta 0:00:01\r\u001b[K     |███████████████████████████▍    | 3.0MB 13.1MB/s eta 0:00:01\r\u001b[K     |███████████████████████████▌    | 3.0MB 13.1MB/s eta 0:00:01\r\u001b[K     |███████████████████████████▋    | 3.0MB 13.1MB/s eta 0:00:01\r\u001b[K     |███████████████████████████▊    | 3.0MB 13.1MB/s eta 0:00:01\r\u001b[K     |███████████████████████████▉    | 3.0MB 13.1MB/s eta 0:00:01\r\u001b[K     |████████████████████████████    | 3.0MB 13.1MB/s eta 0:00:01\r\u001b[K     |████████████████████████████    | 3.1MB 13.1MB/s eta 0:00:01\r\u001b[K     |████████████████████████████    | 3.1MB 13.1MB/s eta 0:00:01\r\u001b[K     |████████████████████████████▏   | 3.1MB 13.1MB/s eta 0:00:01\r\u001b[K     |████████████████████████████▎   | 3.1MB 13.1MB/s eta 0:00:01\r\u001b[K     |████████████████████████████▍   | 3.1MB 13.1MB/s eta 0:00:01\r\u001b[K     |████████████████████████████▌   | 3.1MB 13.1MB/s eta 0:00:01\r\u001b[K     |████████████████████████████▋   | 3.1MB 13.1MB/s eta 0:00:01\r\u001b[K     |████████████████████████████▋   | 3.1MB 13.1MB/s eta 0:00:01\r\u001b[K     |████████████████████████████▊   | 3.1MB 13.1MB/s eta 0:00:01\r\u001b[K     |████████████████████████████▉   | 3.1MB 13.1MB/s eta 0:00:01\r\u001b[K     |█████████████████████████████   | 3.2MB 13.1MB/s eta 0:00:01\r\u001b[K     |█████████████████████████████   | 3.2MB 13.1MB/s eta 0:00:01\r\u001b[K     |█████████████████████████████▏  | 3.2MB 13.1MB/s eta 0:00:01\r\u001b[K     |█████████████████████████████▏  | 3.2MB 13.1MB/s eta 0:00:01\r\u001b[K     |█████████████████████████████▎  | 3.2MB 13.1MB/s eta 0:00:01\r\u001b[K     |█████████████████████████████▍  | 3.2MB 13.1MB/s eta 0:00:01\r\u001b[K     |█████████████████████████████▌  | 3.2MB 13.1MB/s eta 0:00:01\r\u001b[K     |█████████████████████████████▋  | 3.2MB 13.1MB/s eta 0:00:01\r\u001b[K     |█████████████████████████████▊  | 3.2MB 13.1MB/s eta 0:00:01\r\u001b[K     |█████████████████████████████▉  | 3.2MB 13.1MB/s eta 0:00:01\r\u001b[K     |█████████████████████████████▉  | 3.3MB 13.1MB/s eta 0:00:01\r\u001b[K     |██████████████████████████████  | 3.3MB 13.1MB/s eta 0:00:01\r\u001b[K     |██████████████████████████████  | 3.3MB 13.1MB/s eta 0:00:01\r\u001b[K     |██████████████████████████████▏ | 3.3MB 13.1MB/s eta 0:00:01\r\u001b[K     |██████████████████████████████▎ | 3.3MB 13.1MB/s eta 0:00:01\r\u001b[K     |██████████████████████████████▍ | 3.3MB 13.1MB/s eta 0:00:01\r\u001b[K     |██████████████████████████████▍ | 3.3MB 13.1MB/s eta 0:00:01\r\u001b[K     |██████████████████████████████▌ | 3.3MB 13.1MB/s eta 0:00:01\r\u001b[K     |██████████████████████████████▋ | 3.3MB 13.1MB/s eta 0:00:01\r\u001b[K     |██████████████████████████████▊ | 3.3MB 13.1MB/s eta 0:00:01\r\u001b[K     |██████████████████████████████▉ | 3.4MB 13.1MB/s eta 0:00:01\r\u001b[K     |███████████████████████████████ | 3.4MB 13.1MB/s eta 0:00:01\r\u001b[K     |███████████████████████████████ | 3.4MB 13.1MB/s eta 0:00:01\r\u001b[K     |███████████████████████████████ | 3.4MB 13.1MB/s eta 0:00:01\r\u001b[K     |███████████████████████████████▏| 3.4MB 13.1MB/s eta 0:00:01\r\u001b[K     |███████████████████████████████▎| 3.4MB 13.1MB/s eta 0:00:01\r\u001b[K     |███████████████████████████████▍| 3.4MB 13.1MB/s eta 0:00:01\r\u001b[K     |███████████████████████████████▌| 3.4MB 13.1MB/s eta 0:00:01\r\u001b[K     |███████████████████████████████▋| 3.4MB 13.1MB/s eta 0:00:01\r\u001b[K     |███████████████████████████████▋| 3.5MB 13.1MB/s eta 0:00:01\r\u001b[K     |███████████████████████████████▊| 3.5MB 13.1MB/s eta 0:00:01\r\u001b[K     |███████████████████████████████▉| 3.5MB 13.1MB/s eta 0:00:01\r\u001b[K     |████████████████████████████████| 3.5MB 13.1MB/s eta 0:00:01\r\u001b[K     |████████████████████████████████| 3.5MB 13.1MB/s \n",
            "\u001b[?25hRequirement already satisfied: scipy>=1.1.0 in /usr/local/lib/python3.6/dist-packages (from dgl) (1.4.1)\n",
            "Requirement already satisfied: numpy>=1.14.0 in /usr/local/lib/python3.6/dist-packages (from dgl) (1.18.5)\n",
            "Requirement already satisfied: networkx>=2.1 in /usr/local/lib/python3.6/dist-packages (from dgl) (2.5)\n",
            "Requirement already satisfied: requests>=2.19.0 in /usr/local/lib/python3.6/dist-packages (from dgl) (2.23.0)\n",
            "Requirement already satisfied: decorator>=4.3.0 in /usr/local/lib/python3.6/dist-packages (from networkx>=2.1->dgl) (4.4.2)\n",
            "Requirement already satisfied: chardet<4,>=3.0.2 in /usr/local/lib/python3.6/dist-packages (from requests>=2.19.0->dgl) (3.0.4)\n",
            "Requirement already satisfied: certifi>=2017.4.17 in /usr/local/lib/python3.6/dist-packages (from requests>=2.19.0->dgl) (2020.6.20)\n",
            "Requirement already satisfied: idna<3,>=2.5 in /usr/local/lib/python3.6/dist-packages (from requests>=2.19.0->dgl) (2.10)\n",
            "Requirement already satisfied: urllib3!=1.25.0,!=1.25.1,<1.26,>=1.21.1 in /usr/local/lib/python3.6/dist-packages (from requests>=2.19.0->dgl) (1.24.3)\n",
            "Installing collected packages: dgl\n",
            "Successfully installed dgl-0.5.2\n"
          ],
          "name": "stdout"
        }
      ]
    },
    {
      "cell_type": "code",
      "metadata": {
        "id": "STpwjU6MU4rS"
      },
      "source": [
        "#import\n",
        "%matplotlib inline"
      ],
      "execution_count": 3,
      "outputs": []
    },
    {
      "cell_type": "code",
      "metadata": {
        "id": "mWvzEDp-8dfE",
        "outputId": "dee90a3a-d669-47f4-b63b-a8066b279c47",
        "colab": {
          "base_uri": "https://localhost:8080/"
        }
      },
      "source": [
        "import torch\n",
        "torch.cuda.is_available()"
      ],
      "execution_count": 4,
      "outputs": [
        {
          "output_type": "execute_result",
          "data": {
            "text/plain": [
              "True"
            ]
          },
          "metadata": {
            "tags": []
          },
          "execution_count": 4
        }
      ]
    },
    {
      "cell_type": "code",
      "metadata": {
        "id": "mJ21BrlkVINg",
        "outputId": "dbdba1c0-82dc-4c7d-a295-2671adc71ada",
        "colab": {
          "base_uri": "https://localhost:8080/"
        }
      },
      "source": [
        "#GAT algorithm\n",
        "from dgl.nn.pytorch import GATConv\n",
        "import torch\n",
        "import torch.nn as nn\n",
        "import torch.nn.functional as F\n",
        "\n",
        "\n",
        "class GATLayer(nn.Module):\n",
        "    def __init__(self, g, in_dim, out_dim):\n",
        "        super(GATLayer, self).__init__()\n",
        "        self.g = g\n",
        "        # equation (1)\n",
        "        self.fc = nn.Linear(in_dim, out_dim, bias=False)\n",
        "        # equation (2)\n",
        "        self.attn_fc = nn.Linear(2 * out_dim, 1, bias=False)\n",
        "        self.reset_parameters()\n",
        "\n",
        "    def reset_parameters(self):\n",
        "        \"\"\"Reinitialize learnable parameters.\"\"\"\n",
        "        gain = nn.init.calculate_gain('relu')\n",
        "        nn.init.xavier_normal_(self.fc.weight, gain=gain)\n",
        "        nn.init.xavier_normal_(self.attn_fc.weight, gain=gain)\n",
        "\n",
        "    def edge_attention(self, edges):\n",
        "        # edge UDF for equation (2)\n",
        "        z2 = torch.cat([edges.src['z'], edges.dst['z']], dim=1)\n",
        "        a = self.attn_fc(z2)\n",
        "        return {'e': F.leaky_relu(a)}\n",
        "\n",
        "    def message_func(self, edges):\n",
        "        # message UDF for equation (3) & (4)\n",
        "        return {'z': edges.src['z'], 'e': edges.data['e']}\n",
        "\n",
        "    def reduce_func(self, nodes):\n",
        "        # reduce UDF for equation (3) & (4)\n",
        "        # equation (3)\n",
        "        alpha = F.softmax(nodes.mailbox['e'], dim=1)\n",
        "        # equation (4)\n",
        "        h = torch.sum(alpha * nodes.mailbox['z'], dim=1)\n",
        "        return {'h': h}\n",
        "\n",
        "    def forward(self, h):\n",
        "        # equation (1)\n",
        "        z = self.fc(h)\n",
        "        self.g.ndata['z'] = z\n",
        "        # equation (2)\n",
        "        self.g.apply_edges(self.edge_attention)\n",
        "        # equation (3) & (4)\n",
        "        self.g.update_all(self.message_func, self.reduce_func)\n",
        "        return self.g.ndata.pop('h')\n",
        "\n",
        "class MultiHeadGATLayer(nn.Module):\n",
        "    def __init__(self, g, in_dim, out_dim, num_heads, merge='cat'):\n",
        "        super(MultiHeadGATLayer, self).__init__()\n",
        "        self.heads = nn.ModuleList()\n",
        "        for i in range(num_heads):\n",
        "            self.heads.append(GATLayer(g, in_dim, out_dim))\n",
        "        self.merge = merge\n",
        "\n",
        "    def forward(self, h):\n",
        "        head_outs = [attn_head(h) for attn_head in self.heads]\n",
        "        if self.merge == 'cat':\n",
        "            # concat on the output feature dimension (dim=1)\n",
        "            return torch.cat(head_outs, dim=1)\n",
        "        else:\n",
        "            # merge using average\n",
        "            return torch.mean(torch.stack(head_outs))\n",
        "            \n",
        "class GAT(nn.Module):\n",
        "    def __init__(self, g, in_dim, hidden_dim, out_dim, num_heads):\n",
        "        super(GAT, self).__init__()\n",
        "        self.layer1 = MultiHeadGATLayer(g, in_dim, hidden_dim, num_heads)\n",
        "        # Be aware that the input dimension is hidden_dim*num_heads since\n",
        "        # multiple head outputs are concatenated together. Also, only\n",
        "        # one attention head in the output layer.\n",
        "        self.layer2 = MultiHeadGATLayer(g, hidden_dim * num_heads, out_dim, 1)\n",
        "\n",
        "    def forward(self, h):\n",
        "        h = self.layer1(h)\n",
        "        h = F.elu(h)\n",
        "        h = self.layer2(h)\n",
        "        return h"
      ],
      "execution_count": 5,
      "outputs": [
        {
          "output_type": "stream",
          "text": [
            "DGL backend not selected or invalid.  Assuming PyTorch for now.\n",
            "Using backend: pytorch\n"
          ],
          "name": "stderr"
        },
        {
          "output_type": "stream",
          "text": [
            "Setting the default backend to \"pytorch\". You can change it in the ~/.dgl/config.json file or export the DGLBACKEND environment variable.  Valid options are: pytorch, mxnet, tensorflow (all lowercase)\n"
          ],
          "name": "stdout"
        }
      ]
    },
    {
      "cell_type": "code",
      "metadata": {
        "id": "mDi2fTnhYc0V",
        "outputId": "c1bae37f-67c7-483f-a7d2-c492b9a68fed",
        "colab": {
          "resources": {
            "http://localhost:8080/nbextensions/google.colab/files.js": {
              "data": "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",
              "ok": true,
              "headers": [
                [
                  "content-type",
                  "application/javascript"
                ]
              ],
              "status": 200,
              "status_text": ""
            }
          },
          "base_uri": "https://localhost:8080/",
          "height": 72
        }
      },
      "source": [
        "from google.colab import files\n",
        "uploaded = files.upload()"
      ],
      "execution_count": 9,
      "outputs": [
        {
          "output_type": "display_data",
          "data": {
            "text/html": [
              "\n",
              "     <input type=\"file\" id=\"files-3e266628-1868-4f0d-817b-d6b5b4b96935\" name=\"files[]\" multiple disabled\n",
              "        style=\"border:none\" />\n",
              "     <output id=\"result-3e266628-1868-4f0d-817b-d6b5b4b96935\">\n",
              "      Upload widget is only available when the cell has been executed in the\n",
              "      current browser session. Please rerun this cell to enable.\n",
              "      </output>\n",
              "      <script src=\"/nbextensions/google.colab/files.js\"></script> "
            ],
            "text/plain": [
              "<IPython.core.display.HTML object>"
            ]
          },
          "metadata": {
            "tags": []
          }
        },
        {
          "output_type": "stream",
          "text": [
            "Saving Class_user_status_class.csv to Class_user_status_class (2).csv\n"
          ],
          "name": "stdout"
        }
      ]
    },
    {
      "cell_type": "code",
      "metadata": {
        "id": "NiC36jWwZK4c"
      },
      "source": [
        "import io\n",
        "import pandas as pd\n",
        "df = pd.read_csv(io.BytesIO(uploaded['Class_user_status_class.csv']), dtype={'ID': str})\n",
        "# Dataset is now stored in a Pandas Dataframe"
      ],
      "execution_count": 11,
      "outputs": []
    },
    {
      "cell_type": "code",
      "metadata": {
        "id": "RNCOeo14Ym1M",
        "outputId": "6110c87d-5987-484c-edbb-83d4028fe83e",
        "colab": {
          "base_uri": "https://localhost:8080/",
          "height": 419
        }
      },
      "source": [
        "df"
      ],
      "execution_count": 12,
      "outputs": [
        {
          "output_type": "execute_result",
          "data": {
            "text/html": [
              "<div>\n",
              "<style scoped>\n",
              "    .dataframe tbody tr th:only-of-type {\n",
              "        vertical-align: middle;\n",
              "    }\n",
              "\n",
              "    .dataframe tbody tr th {\n",
              "        vertical-align: top;\n",
              "    }\n",
              "\n",
              "    .dataframe thead th {\n",
              "        text-align: right;\n",
              "    }\n",
              "</style>\n",
              "<table border=\"1\" class=\"dataframe\">\n",
              "  <thead>\n",
              "    <tr style=\"text-align: right;\">\n",
              "      <th></th>\n",
              "      <th>Screen_name</th>\n",
              "      <th>ID</th>\n",
              "      <th>Follower</th>\n",
              "      <th>Following</th>\n",
              "      <th>Food status</th>\n",
              "      <th>Non food status</th>\n",
              "      <th>Rate</th>\n",
              "      <th>is_food_inf</th>\n",
              "    </tr>\n",
              "  </thead>\n",
              "  <tbody>\n",
              "    <tr>\n",
              "      <th>0</th>\n",
              "      <td>YouTube</td>\n",
              "      <td>10228272</td>\n",
              "      <td>72278755</td>\n",
              "      <td>1153</td>\n",
              "      <td>0</td>\n",
              "      <td>300</td>\n",
              "      <td>0.0</td>\n",
              "      <td>N</td>\n",
              "    </tr>\n",
              "    <tr>\n",
              "      <th>1</th>\n",
              "      <td>fm91trafficpro</td>\n",
              "      <td>148271173</td>\n",
              "      <td>2654960</td>\n",
              "      <td>70</td>\n",
              "      <td>0</td>\n",
              "      <td>300</td>\n",
              "      <td>0.0</td>\n",
              "      <td>N</td>\n",
              "    </tr>\n",
              "    <tr>\n",
              "      <th>2</th>\n",
              "      <td>BBCEarth</td>\n",
              "      <td>70725281</td>\n",
              "      <td>625728</td>\n",
              "      <td>902</td>\n",
              "      <td>0</td>\n",
              "      <td>300</td>\n",
              "      <td>0.0</td>\n",
              "      <td>N</td>\n",
              "    </tr>\n",
              "    <tr>\n",
              "      <th>3</th>\n",
              "      <td>ohmthitiwat</td>\n",
              "      <td>1351956895</td>\n",
              "      <td>333653</td>\n",
              "      <td>80</td>\n",
              "      <td>0</td>\n",
              "      <td>300</td>\n",
              "      <td>0.0</td>\n",
              "      <td>N</td>\n",
              "    </tr>\n",
              "    <tr>\n",
              "      <th>4</th>\n",
              "      <td>FlukeNatouch</td>\n",
              "      <td>490002009</td>\n",
              "      <td>324819</td>\n",
              "      <td>149</td>\n",
              "      <td>0</td>\n",
              "      <td>300</td>\n",
              "      <td>0.0</td>\n",
              "      <td>N</td>\n",
              "    </tr>\n",
              "    <tr>\n",
              "      <th>...</th>\n",
              "      <td>...</td>\n",
              "      <td>...</td>\n",
              "      <td>...</td>\n",
              "      <td>...</td>\n",
              "      <td>...</td>\n",
              "      <td>...</td>\n",
              "      <td>...</td>\n",
              "      <td>...</td>\n",
              "    </tr>\n",
              "    <tr>\n",
              "      <th>1516</th>\n",
              "      <td>nongkeki</td>\n",
              "      <td>1.25E+18</td>\n",
              "      <td>1</td>\n",
              "      <td>0</td>\n",
              "      <td>1</td>\n",
              "      <td>0</td>\n",
              "      <td>100.0</td>\n",
              "      <td>NaN</td>\n",
              "    </tr>\n",
              "    <tr>\n",
              "      <th>1517</th>\n",
              "      <td>praewachitsupha</td>\n",
              "      <td>1.14E+18</td>\n",
              "      <td>0</td>\n",
              "      <td>0</td>\n",
              "      <td>6</td>\n",
              "      <td>0</td>\n",
              "      <td>100.0</td>\n",
              "      <td>NaN</td>\n",
              "    </tr>\n",
              "    <tr>\n",
              "      <th>1518</th>\n",
              "      <td>lsuriyustyle</td>\n",
              "      <td>1.31E+18</td>\n",
              "      <td>0</td>\n",
              "      <td>0</td>\n",
              "      <td>4</td>\n",
              "      <td>0</td>\n",
              "      <td>100.0</td>\n",
              "      <td>NaN</td>\n",
              "    </tr>\n",
              "    <tr>\n",
              "      <th>1519</th>\n",
              "      <td>Orangino3</td>\n",
              "      <td>1.32E+18</td>\n",
              "      <td>0</td>\n",
              "      <td>1</td>\n",
              "      <td>2</td>\n",
              "      <td>0</td>\n",
              "      <td>100.0</td>\n",
              "      <td>NaN</td>\n",
              "    </tr>\n",
              "    <tr>\n",
              "      <th>1520</th>\n",
              "      <td>ALITTLETHING15</td>\n",
              "      <td>1.30E+18</td>\n",
              "      <td>0</td>\n",
              "      <td>0</td>\n",
              "      <td>1</td>\n",
              "      <td>0</td>\n",
              "      <td>100.0</td>\n",
              "      <td>NaN</td>\n",
              "    </tr>\n",
              "  </tbody>\n",
              "</table>\n",
              "<p>1521 rows × 8 columns</p>\n",
              "</div>"
            ],
            "text/plain": [
              "          Screen_name          ID  Follower  ...  Non food status   Rate  is_food_inf\n",
              "0             YouTube    10228272  72278755  ...              300    0.0            N\n",
              "1      fm91trafficpro   148271173   2654960  ...              300    0.0            N\n",
              "2            BBCEarth    70725281    625728  ...              300    0.0            N\n",
              "3         ohmthitiwat  1351956895    333653  ...              300    0.0            N\n",
              "4        FlukeNatouch   490002009    324819  ...              300    0.0            N\n",
              "...               ...         ...       ...  ...              ...    ...          ...\n",
              "1516         nongkeki    1.25E+18         1  ...                0  100.0          NaN\n",
              "1517  praewachitsupha    1.14E+18         0  ...                0  100.0          NaN\n",
              "1518     lsuriyustyle    1.31E+18         0  ...                0  100.0          NaN\n",
              "1519        Orangino3    1.32E+18         0  ...                0  100.0          NaN\n",
              "1520   ALITTLETHING15    1.30E+18         0  ...                0  100.0          NaN\n",
              "\n",
              "[1521 rows x 8 columns]"
            ]
          },
          "metadata": {
            "tags": []
          },
          "execution_count": 12
        }
      ]
    },
    {
      "cell_type": "code",
      "metadata": {
        "id": "cj_IQeTUVnpS",
        "outputId": "4ea4ea8b-fd74-4736-947c-7d59238e432f",
        "colab": {
          "base_uri": "https://localhost:8080/"
        }
      },
      "source": [
        "##import data\n",
        "\n",
        "# 1. graph node(u>v) + weight of edges\n",
        "from dgl import DGLGraph\n",
        "edges = torch.tensor([0, 1, 2, 3, 4, 5]), torch.tensor([1, 2, 3, 4, 5, 0])\n",
        "weights = torch.tensor([0.1, 0.6, 0.9, 0.7, 0.3, 0.5])  # weight of each edge\n",
        "_g = DGLGraph(edges)\n",
        "_g.edata['w'] = weights  # give it a name 'w'\n",
        "\n",
        "# 2. Features of node\n",
        "_features = torch.Tensor([[0,0.5,0.5,0.7,1,0,1,0.2,0.9,0.4],[1,0.5,0.5,0.2,1,1,0.2,0.5,1,0.8],[0.5,0.3,0.8,0.1,0,1,0.4,0.7,0.6,0.2],\n",
        "          [0.8,0.2,0.1,1,1,0.7,0.1,0.1,0.1,0.6],[0,1,0.2,0.2,1,1,0.5,0.9,0.1,0.4],[0,1,0.5,0.1,0,1,0.9,0.2,0.4,0.5]])\n",
        "\n",
        "# 3. label (1=Food, 0=Not Food)\n",
        "_labels = torch.LongTensor([0,1,1,0,1,0])\n",
        "\n",
        "# 4. mask (True=Train, False=Test)\n",
        "_mask = torch.BoolTensor([False,True,False,False,True,True])"
      ],
      "execution_count": null,
      "outputs": [
        {
          "output_type": "stream",
          "text": [
            "/usr/local/lib/python3.6/dist-packages/dgl/base.py:45: DGLWarning: Recommend creating graphs by `dgl.graph(data)` instead of `dgl.DGLGraph(data)`.\n",
            "  return warnings.warn(message, category=category, stacklevel=1)\n"
          ],
          "name": "stderr"
        }
      ]
    },
    {
      "cell_type": "code",
      "metadata": {
        "id": "yTkinhggXzH3",
        "outputId": "b0e29856-82d8-4d43-94c8-1328352c7455",
        "colab": {
          "base_uri": "https://localhost:8080/"
        }
      },
      "source": [
        "print(_g)\n",
        "print(_features)\n",
        "print(_labels)\n",
        "print(_mask)\n",
        "print(type(_g))\n",
        "print(type(_features))\n",
        "print(type(_labels))\n",
        "print(type(_mask))"
      ],
      "execution_count": null,
      "outputs": [
        {
          "output_type": "stream",
          "text": [
            "Graph(num_nodes=6, num_edges=6,\n",
            "      ndata_schemes={}\n",
            "      edata_schemes={'w': Scheme(shape=(), dtype=torch.float32)})\n",
            "tensor([[0.0000, 0.5000, 0.5000, 0.7000, 1.0000, 0.0000, 1.0000, 0.2000, 0.9000,\n",
            "         0.4000],\n",
            "        [1.0000, 0.5000, 0.5000, 0.2000, 1.0000, 1.0000, 0.2000, 0.5000, 1.0000,\n",
            "         0.8000],\n",
            "        [0.5000, 0.3000, 0.8000, 0.1000, 0.0000, 1.0000, 0.4000, 0.7000, 0.6000,\n",
            "         0.2000],\n",
            "        [0.8000, 0.2000, 0.1000, 1.0000, 1.0000, 0.7000, 0.1000, 0.1000, 0.1000,\n",
            "         0.6000],\n",
            "        [0.0000, 1.0000, 0.2000, 0.2000, 1.0000, 1.0000, 0.5000, 0.9000, 0.1000,\n",
            "         0.4000],\n",
            "        [0.0000, 1.0000, 0.5000, 0.1000, 0.0000, 1.0000, 0.9000, 0.2000, 0.4000,\n",
            "         0.5000]])\n",
            "tensor([0, 1, 1, 0, 1, 0])\n",
            "tensor([False,  True, False, False,  True,  True])\n",
            "<class 'dgl.heterograph.DGLHeteroGraph'>\n",
            "<class 'torch.Tensor'>\n",
            "<class 'torch.Tensor'>\n",
            "<class 'torch.Tensor'>\n"
          ],
          "name": "stdout"
        }
      ]
    },
    {
      "cell_type": "code",
      "metadata": {
        "id": "CuQR4FKpX9S2",
        "outputId": "1a35432a-b941-47d7-98ff-b25ad0ff5fc5",
        "colab": {
          "base_uri": "https://localhost:8080/"
        }
      },
      "source": [
        "#Training\n",
        "import time\n",
        "import numpy as np\n",
        "\n",
        "# create the model, 2 heads, each head has hidden size 8\n",
        "net = GAT(_g,\n",
        "          in_dim=_features.size()[1],\n",
        "          hidden_dim=8,\n",
        "          out_dim=7,\n",
        "          num_heads=2)\n",
        "\n",
        "# Use GPU\n",
        "device = torch.device('cuda' if torch.cuda.is_available() else 'cpu')\n",
        "# net = net.to(device)\n",
        "_g = _g.to(device)\n",
        "\n",
        "# create optimizer\n",
        "optimizer = torch.optim.Adam(net.parameters(), lr=1e-3)\n",
        "\n",
        "# main loop\n",
        "dur = []\n",
        "losses = []\n",
        "for epoch in range(30):\n",
        "    if epoch >= 3:\n",
        "        t0 = time.time()\n",
        "\n",
        "    logits = net(_features)\n",
        "    logp = F.log_softmax(logits, 1)\n",
        "    loss = F.nll_loss(logp[_mask], _labels[_mask])\n",
        "\n",
        "    losses.append(loss)\n",
        "\n",
        "    optimizer.zero_grad()\n",
        "    loss.backward()\n",
        "    optimizer.step()\n",
        "\n",
        "    if epoch >= 3:\n",
        "        dur.append(time.time() - t0)\n",
        "\n",
        "    print(\"Epoch {:05d} | Loss {:.4f} | Time(s) {:.4f}\".format(\n",
        "        epoch, loss.item(), np.mean(dur)))"
      ],
      "execution_count": null,
      "outputs": [
        {
          "output_type": "stream",
          "text": [
            "/usr/local/lib/python3.6/dist-packages/numpy/core/fromnumeric.py:3335: RuntimeWarning: Mean of empty slice.\n",
            "  out=out, **kwargs)\n",
            "/usr/local/lib/python3.6/dist-packages/numpy/core/_methods.py:161: RuntimeWarning: invalid value encountered in double_scalars\n",
            "  ret = ret.dtype.type(ret / rcount)\n"
          ],
          "name": "stderr"
        },
        {
          "output_type": "stream",
          "text": [
            "Epoch 00000 | Loss 2.9393 | Time(s) nan\n",
            "Epoch 00001 | Loss 2.9072 | Time(s) nan\n",
            "Epoch 00002 | Loss 2.8753 | Time(s) nan\n",
            "Epoch 00003 | Loss 2.8435 | Time(s) 0.0075\n",
            "Epoch 00004 | Loss 2.8118 | Time(s) 0.0076\n",
            "Epoch 00005 | Loss 2.7803 | Time(s) 0.0075\n",
            "Epoch 00006 | Loss 2.7489 | Time(s) 0.0075\n",
            "Epoch 00007 | Loss 2.7177 | Time(s) 0.0075\n",
            "Epoch 00008 | Loss 2.6866 | Time(s) 0.0075\n",
            "Epoch 00009 | Loss 2.6558 | Time(s) 0.0075\n",
            "Epoch 00010 | Loss 2.6250 | Time(s) 0.0075\n",
            "Epoch 00011 | Loss 2.5945 | Time(s) 0.0074\n",
            "Epoch 00012 | Loss 2.5641 | Time(s) 0.0074\n",
            "Epoch 00013 | Loss 2.5339 | Time(s) 0.0074\n",
            "Epoch 00014 | Loss 2.5039 | Time(s) 0.0074\n",
            "Epoch 00015 | Loss 2.4741 | Time(s) 0.0074\n",
            "Epoch 00016 | Loss 2.4444 | Time(s) 0.0076\n",
            "Epoch 00017 | Loss 2.4150 | Time(s) 0.0076\n",
            "Epoch 00018 | Loss 2.3857 | Time(s) 0.0076\n",
            "Epoch 00019 | Loss 2.3566 | Time(s) 0.0076\n",
            "Epoch 00020 | Loss 2.3277 | Time(s) 0.0076\n",
            "Epoch 00021 | Loss 2.2990 | Time(s) 0.0076\n",
            "Epoch 00022 | Loss 2.2706 | Time(s) 0.0076\n",
            "Epoch 00023 | Loss 2.2423 | Time(s) 0.0076\n",
            "Epoch 00024 | Loss 2.2142 | Time(s) 0.0076\n",
            "Epoch 00025 | Loss 2.1863 | Time(s) 0.0076\n",
            "Epoch 00026 | Loss 2.1586 | Time(s) 0.0076\n",
            "Epoch 00027 | Loss 2.1311 | Time(s) 0.0078\n",
            "Epoch 00028 | Loss 2.1038 | Time(s) 0.0079\n",
            "Epoch 00029 | Loss 2.0768 | Time(s) 0.0079\n"
          ],
          "name": "stdout"
        }
      ]
    },
    {
      "cell_type": "code",
      "metadata": {
        "id": "WBe9mxX9YInS",
        "outputId": "ece3e889-9bbf-4124-90aa-64d1b94611b6",
        "colab": {
          "base_uri": "https://localhost:8080/",
          "height": 337
        }
      },
      "source": [
        "#Visualize the training loss\n",
        "import seaborn as sns\n",
        "losses_float = [float(loss.cpu().detach().numpy()) for loss in losses] \n",
        "loss_indices = [i for i,l in enumerate(losses_float)] \n",
        "plt = sns.lineplot(loss_indices, losses_float)\n",
        "plt"
      ],
      "execution_count": null,
      "outputs": [
        {
          "output_type": "stream",
          "text": [
            "/usr/local/lib/python3.6/dist-packages/seaborn/_decorators.py:43: FutureWarning: Pass the following variables as keyword args: x, y. From version 0.12, the only valid positional argument will be `data`, and passing other arguments without an explicit keyword will result in an error or misinterpretation.\n",
            "  FutureWarning\n"
          ],
          "name": "stderr"
        },
        {
          "output_type": "execute_result",
          "data": {
            "text/plain": [
              "<matplotlib.axes._subplots.AxesSubplot at 0x7f1b74c54630>"
            ]
          },
          "metadata": {
            "tags": []
          },
          "execution_count": 56
        },
        {
          "output_type": "display_data",
          "data": {
            "image/png": "[encoded data removed]",
            "text/plain": [
              "<Figure size 432x288 with 1 Axes>"
            ]
          },
          "metadata": {
            "tags": [],
            "needs_background": "light"
          }
        }
      ]
    }
  ]
}